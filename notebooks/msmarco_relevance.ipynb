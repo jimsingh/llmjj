{
 "cells": [
  {
   "cell_type": "code",
   "execution_count": null,
   "id": "0",
   "metadata": {},
   "outputs": [],
   "source": [
    "import os\n",
    "import pandas as pd\n",
    "\n",
    "from datasets import load_dataset\n",
    "from pathlib import Path\n",
    "from transformers import AutoModelForSequenceClassification, AutoTokenizer, pipeline\n",
    "from functools import lru_cache\n",
    "\n",
    "@lru_cache(maxsize=1)\n",
    "def load_nli_classifier(model_name=\"microsoft/deberta-v2-xlarge-mnli\"):\n",
    "    classifier = pipeline(\"zero-shot-classification\", model=model_name)    \n",
    "    return classifier\n",
    "    \n",
    "@lru_cache(maxsize=1)\n",
    "def load_dataset():\n",
    "    msmarco_ds = load_dataset(\"ms_marco\", \"v2.1\", split=\"train\", streaming=True)\n",
    "    return msmarco_ds\n",
    "\n",
    "def test_entailment():\n",
    "    # simple test case\n",
    "    query = \"What was Apple's revenue in Q2 2025?\"\n",
    "    premise = \"Apple reported $119.6 billion in revenue for Q2 2025.\"\n",
    "    \n",
    "    # test cases: entailment, contradiction, neutral\n",
    "    hypothesis1 = \"In the second quarter of 2025, Apple posted revenue of $119.6 billion, beating analyst expectations.\"\n",
    "    hypothesis2 = \"Apple's Q2 2025 revenue was only $90 billion, which was below expectations.\"\n",
    "    hypothesis3 = \"Apple launched the Vision Pro headset in 2024 as part of its expansion into spatial computing.\"\n",
    "    \n",
    "    classifier = load_nli_classifier()\n",
    "    result = classifier(premise, [hypothesis1, hypothesis2, hypothesis3])\n",
    "    scores = result['scores']\n",
    "    print(result)\n",
    "\n",
    "def test_msmarco():\n",
    "    for i, e in enumerate(msmarco_ds):\n",
    "        premise = e['answers'][0]\n",
    "        if not premise:\n",
    "            continue\n",
    "\n",
    "        # make sure the selected passage is first\n",
    "        pairs = zip(e['passages']['is_selected'], e['passages']['passage_text'])\n",
    "        passages = [(s, p) for s, p in pairs]\n",
    "        passages.sort(reverse=True)\n",
    "        \n",
    "        if passages[0][0] != 1:\n",
    "            continue\n",
    "        \n",
    "        classifier = load_nli_classifier()\n",
    "        result = classifier(premise, [p[1] for p in passages])\n",
    "        print(result)\n",
    "        \n",
    "test_entailment()\n",
    "test_msmarco()"
   ]
  },
  {
   "cell_type": "code",
   "execution_count": null,
   "id": "1",
   "metadata": {},
   "outputs": [],
   "source": []
  }
 ],
 "metadata": {
  "kernelspec": {
   "display_name": "Python 3 (ipykernel)",
   "language": "python",
   "name": "python3"
  },
  "language_info": {
   "codemirror_mode": {
    "name": "ipython",
    "version": 3
   },
   "file_extension": ".py",
   "mimetype": "text/x-python",
   "name": "python",
   "nbconvert_exporter": "python",
   "pygments_lexer": "ipython3",
   "version": "3.13.3"
  }
 },
 "nbformat": 4,
 "nbformat_minor": 5
}
